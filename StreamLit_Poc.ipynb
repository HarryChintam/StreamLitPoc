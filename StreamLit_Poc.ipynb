{
  "nbformat": 4,
  "nbformat_minor": 0,
  "metadata": {
    "colab": {
      "provenance": [],
      "authorship_tag": "ABX9TyPQwwHue0uCb6FIGfLv6SdU",
      "include_colab_link": true
    },
    "kernelspec": {
      "name": "python3",
      "display_name": "Python 3"
    },
    "language_info": {
      "name": "python"
    }
  },
  "cells": [
    {
      "cell_type": "markdown",
      "metadata": {
        "id": "view-in-github",
        "colab_type": "text"
      },
      "source": [
        "<a href=\"https://colab.research.google.com/github/HarryChintam/StreamLitPoc/blob/CodePoc/StreamLit_Poc.ipynb\" target=\"_parent\"><img src=\"https://colab.research.google.com/assets/colab-badge.svg\" alt=\"Open In Colab\"/></a>"
      ]
    },
    {
      "cell_type": "code",
      "execution_count": 1,
      "metadata": {
        "colab": {
          "base_uri": "https://localhost:8080/"
        },
        "id": "rb1ix2ZDP4P2",
        "outputId": "fa8aac5f-6441-42af-bde5-8f7ff419b8f3"
      },
      "outputs": [
        {
          "output_type": "stream",
          "name": "stdout",
          "text": [
            "Collecting streamlit\n",
            "  Downloading streamlit-1.40.1-py2.py3-none-any.whl.metadata (8.5 kB)\n",
            "Collecting pyngrok\n",
            "  Downloading pyngrok-7.2.1-py3-none-any.whl.metadata (8.3 kB)\n",
            "Requirement already satisfied: altair<6,>=4.0 in /usr/local/lib/python3.10/dist-packages (from streamlit) (4.2.2)\n",
            "Requirement already satisfied: blinker<2,>=1.0.0 in /usr/local/lib/python3.10/dist-packages (from streamlit) (1.9.0)\n",
            "Requirement already satisfied: cachetools<6,>=4.0 in /usr/local/lib/python3.10/dist-packages (from streamlit) (5.5.0)\n",
            "Requirement already satisfied: click<9,>=7.0 in /usr/local/lib/python3.10/dist-packages (from streamlit) (8.1.7)\n",
            "Requirement already satisfied: numpy<3,>=1.20 in /usr/local/lib/python3.10/dist-packages (from streamlit) (1.26.4)\n",
            "Requirement already satisfied: packaging<25,>=20 in /usr/local/lib/python3.10/dist-packages (from streamlit) (24.2)\n",
            "Requirement already satisfied: pandas<3,>=1.4.0 in /usr/local/lib/python3.10/dist-packages (from streamlit) (2.2.2)\n",
            "Requirement already satisfied: pillow<12,>=7.1.0 in /usr/local/lib/python3.10/dist-packages (from streamlit) (11.0.0)\n",
            "Requirement already satisfied: protobuf<6,>=3.20 in /usr/local/lib/python3.10/dist-packages (from streamlit) (4.25.5)\n",
            "Requirement already satisfied: pyarrow>=7.0 in /usr/local/lib/python3.10/dist-packages (from streamlit) (17.0.0)\n",
            "Requirement already satisfied: requests<3,>=2.27 in /usr/local/lib/python3.10/dist-packages (from streamlit) (2.32.3)\n",
            "Requirement already satisfied: rich<14,>=10.14.0 in /usr/local/lib/python3.10/dist-packages (from streamlit) (13.9.4)\n",
            "Requirement already satisfied: tenacity<10,>=8.1.0 in /usr/local/lib/python3.10/dist-packages (from streamlit) (9.0.0)\n",
            "Requirement already satisfied: toml<2,>=0.10.1 in /usr/local/lib/python3.10/dist-packages (from streamlit) (0.10.2)\n",
            "Requirement already satisfied: typing-extensions<5,>=4.3.0 in /usr/local/lib/python3.10/dist-packages (from streamlit) (4.12.2)\n",
            "Requirement already satisfied: gitpython!=3.1.19,<4,>=3.0.7 in /usr/local/lib/python3.10/dist-packages (from streamlit) (3.1.43)\n",
            "Collecting pydeck<1,>=0.8.0b4 (from streamlit)\n",
            "  Downloading pydeck-0.9.1-py2.py3-none-any.whl.metadata (4.1 kB)\n",
            "Requirement already satisfied: tornado<7,>=6.0.3 in /usr/local/lib/python3.10/dist-packages (from streamlit) (6.3.3)\n",
            "Collecting watchdog<7,>=2.1.5 (from streamlit)\n",
            "  Downloading watchdog-6.0.0-py3-none-manylinux2014_x86_64.whl.metadata (44 kB)\n",
            "\u001b[2K     \u001b[90m━━━━━━━━━━━━━━━━━━━━━━━━━━━━━━━━━━━━━━━━\u001b[0m \u001b[32m44.3/44.3 kB\u001b[0m \u001b[31m1.4 MB/s\u001b[0m eta \u001b[36m0:00:00\u001b[0m\n",
            "\u001b[?25hRequirement already satisfied: PyYAML>=5.1 in /usr/local/lib/python3.10/dist-packages (from pyngrok) (6.0.2)\n",
            "Requirement already satisfied: entrypoints in /usr/local/lib/python3.10/dist-packages (from altair<6,>=4.0->streamlit) (0.4)\n",
            "Requirement already satisfied: jinja2 in /usr/local/lib/python3.10/dist-packages (from altair<6,>=4.0->streamlit) (3.1.4)\n",
            "Requirement already satisfied: jsonschema>=3.0 in /usr/local/lib/python3.10/dist-packages (from altair<6,>=4.0->streamlit) (4.23.0)\n",
            "Requirement already satisfied: toolz in /usr/local/lib/python3.10/dist-packages (from altair<6,>=4.0->streamlit) (0.12.1)\n",
            "Requirement already satisfied: gitdb<5,>=4.0.1 in /usr/local/lib/python3.10/dist-packages (from gitpython!=3.1.19,<4,>=3.0.7->streamlit) (4.0.11)\n",
            "Requirement already satisfied: python-dateutil>=2.8.2 in /usr/local/lib/python3.10/dist-packages (from pandas<3,>=1.4.0->streamlit) (2.8.2)\n",
            "Requirement already satisfied: pytz>=2020.1 in /usr/local/lib/python3.10/dist-packages (from pandas<3,>=1.4.0->streamlit) (2024.2)\n",
            "Requirement already satisfied: tzdata>=2022.7 in /usr/local/lib/python3.10/dist-packages (from pandas<3,>=1.4.0->streamlit) (2024.2)\n",
            "Requirement already satisfied: charset-normalizer<4,>=2 in /usr/local/lib/python3.10/dist-packages (from requests<3,>=2.27->streamlit) (3.4.0)\n",
            "Requirement already satisfied: idna<4,>=2.5 in /usr/local/lib/python3.10/dist-packages (from requests<3,>=2.27->streamlit) (3.10)\n",
            "Requirement already satisfied: urllib3<3,>=1.21.1 in /usr/local/lib/python3.10/dist-packages (from requests<3,>=2.27->streamlit) (2.2.3)\n",
            "Requirement already satisfied: certifi>=2017.4.17 in /usr/local/lib/python3.10/dist-packages (from requests<3,>=2.27->streamlit) (2024.8.30)\n",
            "Requirement already satisfied: markdown-it-py>=2.2.0 in /usr/local/lib/python3.10/dist-packages (from rich<14,>=10.14.0->streamlit) (3.0.0)\n",
            "Requirement already satisfied: pygments<3.0.0,>=2.13.0 in /usr/local/lib/python3.10/dist-packages (from rich<14,>=10.14.0->streamlit) (2.18.0)\n",
            "Requirement already satisfied: smmap<6,>=3.0.1 in /usr/local/lib/python3.10/dist-packages (from gitdb<5,>=4.0.1->gitpython!=3.1.19,<4,>=3.0.7->streamlit) (5.0.1)\n",
            "Requirement already satisfied: MarkupSafe>=2.0 in /usr/local/lib/python3.10/dist-packages (from jinja2->altair<6,>=4.0->streamlit) (3.0.2)\n",
            "Requirement already satisfied: attrs>=22.2.0 in /usr/local/lib/python3.10/dist-packages (from jsonschema>=3.0->altair<6,>=4.0->streamlit) (24.2.0)\n",
            "Requirement already satisfied: jsonschema-specifications>=2023.03.6 in /usr/local/lib/python3.10/dist-packages (from jsonschema>=3.0->altair<6,>=4.0->streamlit) (2024.10.1)\n",
            "Requirement already satisfied: referencing>=0.28.4 in /usr/local/lib/python3.10/dist-packages (from jsonschema>=3.0->altair<6,>=4.0->streamlit) (0.35.1)\n",
            "Requirement already satisfied: rpds-py>=0.7.1 in /usr/local/lib/python3.10/dist-packages (from jsonschema>=3.0->altair<6,>=4.0->streamlit) (0.21.0)\n",
            "Requirement already satisfied: mdurl~=0.1 in /usr/local/lib/python3.10/dist-packages (from markdown-it-py>=2.2.0->rich<14,>=10.14.0->streamlit) (0.1.2)\n",
            "Requirement already satisfied: six>=1.5 in /usr/local/lib/python3.10/dist-packages (from python-dateutil>=2.8.2->pandas<3,>=1.4.0->streamlit) (1.16.0)\n",
            "Downloading streamlit-1.40.1-py2.py3-none-any.whl (8.6 MB)\n",
            "\u001b[2K   \u001b[90m━━━━━━━━━━━━━━━━━━━━━━━━━━━━━━━━━━━━━━━━\u001b[0m \u001b[32m8.6/8.6 MB\u001b[0m \u001b[31m36.2 MB/s\u001b[0m eta \u001b[36m0:00:00\u001b[0m\n",
            "\u001b[?25hDownloading pyngrok-7.2.1-py3-none-any.whl (22 kB)\n",
            "Downloading pydeck-0.9.1-py2.py3-none-any.whl (6.9 MB)\n",
            "\u001b[2K   \u001b[90m━━━━━━━━━━━━━━━━━━━━━━━━━━━━━━━━━━━━━━━━\u001b[0m \u001b[32m6.9/6.9 MB\u001b[0m \u001b[31m48.9 MB/s\u001b[0m eta \u001b[36m0:00:00\u001b[0m\n",
            "\u001b[?25hDownloading watchdog-6.0.0-py3-none-manylinux2014_x86_64.whl (79 kB)\n",
            "\u001b[2K   \u001b[90m━━━━━━━━━━━━━━━━━━━━━━━━━━━━━━━━━━━━━━━━\u001b[0m \u001b[32m79.1/79.1 kB\u001b[0m \u001b[31m5.3 MB/s\u001b[0m eta \u001b[36m0:00:00\u001b[0m\n",
            "\u001b[?25hInstalling collected packages: watchdog, pyngrok, pydeck, streamlit\n",
            "Successfully installed pydeck-0.9.1 pyngrok-7.2.1 streamlit-1.40.1 watchdog-6.0.0\n",
            "Authtoken saved to configuration file: /root/.config/ngrok/ngrok.yml\n"
          ]
        }
      ],
      "source": [
        "!pip install streamlit pyngrok\n",
        "\n",
        "# Step 2: Configure ngrok with your authtoken\n",
        "!ngrok config add-authtoken 2oRSv8BtAHwfqAnArqee5dOi4NL_7dViZ8N5Y8imAu6YTzofr"
      ]
    },
    {
      "cell_type": "code",
      "source": [
        "!streamlit run app.py &>/dev/null&"
      ],
      "metadata": {
        "id": "t-Qr6YM1QyuH"
      },
      "execution_count": 2,
      "outputs": []
    },
    {
      "cell_type": "code",
      "source": [
        "\n",
        "# Step 3: Write the Streamlit application code to a file\n",
        "app_code = \"\"\"\n",
        "import streamlit as st\n",
        "import pandas as pd\n",
        "\n",
        "# Define the data as a dictionary\n",
        "data_dict = {\n",
        "    'model_forecast_last_run_date': ['January', 'February', 'March', 'April', 'May'],\n",
        "    'forecast_amount': [100, 150, 200, 250, 300],\n",
        "    'actual_user_input_amount': [50, 75, 100, 125, 150],\n",
        "    'user_adjustment': [0,0,0,0,0]\n",
        "}\n",
        "\n",
        "# Convert the dictionary to a Pandas DataFrame\n",
        "data = pd.DataFrame(data_dict)\n",
        "\n",
        "st.title(\"Update Actual Data for the Marvel Finance - Movie Forecasted data for each model_forecast_last_run_date\")\n",
        "\n",
        "# Display the current data\n",
        "st.write(\"Current Data\", data)\n",
        "\n",
        "# Create input fields for user to update data\n",
        "model_forecast_last_run_date = st.selectbox(\"Select model_forecast_last_run_date\", options=data['model_forecast_last_run_date'].unique())\n",
        "\n",
        "# Get the current forecast value for the selected model_forecast_last_run_date\n",
        "current_forecast_amount = data.loc[data['model_forecast_last_run_date'] == model_forecast_last_run_date, 'forecast_amount'].values[0]\n",
        "current_actual_user_input_amount = data.loc[data['model_forecast_last_run_date'] == model_forecast_last_run_date, 'actual_user_input_amount'].values[0]\n",
        "\n",
        "# Pre-fill the number_input with the current forecast value and actual value\n",
        "forecast_amount = st.number_input(\"Forecast Value\", value=current_forecast_amount)\n",
        "actual_user_input_amount = st.number_input(\"Actual Value\", value=current_actual_user_input_amount)\n",
        "\n",
        "# forecast_amount = st.selectbox(\"Select forecast_amount\", options=data['forecast_amount'].unique())\n",
        "# forecast_amount = st.number_input(\"Forecast Value\", value=0)\n",
        "# actual_user_input_amount = st.number_input(\"actual Field\", value=0)\n",
        "\n",
        "# Dynamic calculation (example)\n",
        "user_adjustment = forecast_amount + actual_user_input_amount  # Example calculation\n",
        "st.write(f\"Dynamic Field: {user_adjustment}\")\n",
        "\n",
        "# Update the DataFrame\n",
        "if st.button(\"Submit\"):\n",
        "    # Update the DataFrame\n",
        "    data.loc[data['model_forecast_last_run_date'] == model_forecast_last_run_date, 'forecast_amount'] = forecast_amount\n",
        "    data.loc[data['model_forecast_last_run_date'] == model_forecast_last_run_date, 'actual_user_input_amount'] = actual_user_input_amount\n",
        "    data.loc[data['model_forecast_last_run_date'] == model_forecast_last_run_date, 'user_adjustment'] = user_adjustment\n",
        "\n",
        "    # Display the updated DataFrame\n",
        "    st.write(\"Updated Data\", data)\n",
        "    st.success(\"Data updated successfully!\")\n",
        "\"\"\"\n",
        "\n",
        "with open(\"app.py\", \"w\") as file:\n",
        "    file.write(app_code)\n"
      ],
      "metadata": {
        "id": "_h2YDPGIQ5gb"
      },
      "execution_count": 15,
      "outputs": []
    },
    {
      "cell_type": "code",
      "source": [
        "# Step 3: Write the Streamlit application code to a file\n",
        "app_code = \"\"\"\n",
        "import streamlit as st\n",
        "import pandas as pd\n",
        "from datetime import datetime\n",
        "\n",
        "# Initialize session state for data\n",
        "if 'data' not in st.session_state:\n",
        "    data_dict = {\n",
        "        'model_forecast_last_run_date': ['Nov-17', 'Nov-18', 'Nov-19', 'Nov-20', 'Nov-21'],\n",
        "        'forecast_amount': [100, 105, 110, 114, 134],\n",
        "        'actual_user_input_amount': [110, 103, 117, 118, 0],\n",
        "        'user_adjustment': [10, -2, 7, 4, 0],\n",
        "    }\n",
        "    st.session_state.data = pd.DataFrame(data_dict)\n",
        "\n",
        "data = st.session_state.data\n",
        "\n",
        "st.title(\"Update Actual amount for each phase of the security title aganist Model Forecast data\")\n",
        "\n",
        "# Display the current data\n",
        "st.write(\"Current Data\", data)\n",
        "\n",
        "# Create input fields for user to update data\n",
        "selected_model_forecast_last_run_dates = st.multiselect(\"Select model_forecast_last_run_dates\", options=data['model_forecast_last_run_date'].unique())\n",
        "\n",
        "if selected_model_forecast_last_run_dates:\n",
        "    with st.form(key='update_form'):\n",
        "        updated_data = {}\n",
        "        for model_forecast_last_run_date in selected_model_forecast_last_run_dates:\n",
        "            st.write(f\"Updating data for {model_forecast_last_run_date}\")\n",
        "            current_forecast_amount = data.loc[data['model_forecast_last_run_date'] == model_forecast_last_run_date, 'forecast_amount'].values[0]\n",
        "            current_actual_user_input_amount = data.loc[data['model_forecast_last_run_date'] == model_forecast_last_run_date, 'actual_user_input_amount'].values[0]\n",
        "\n",
        "            forecast_amount = st.number_input(f\"Forecast Value for {model_forecast_last_run_date}\", value=current_forecast_amount, key=f\"forecast_{model_forecast_last_run_date}\")\n",
        "            actual_user_input_amount = st.number_input(f\"Actual Value for {model_forecast_last_run_date}\", value=current_actual_user_input_amount, key=f\"actual_{model_forecast_last_run_date}\")\n",
        "\n",
        "            # Dynamic calculation (example)\n",
        "            user_adjustment = actual_user_input_amount  - forecast_amount  # Example calculation\n",
        "            st.write(f\"Dynamic Field for {model_forecast_last_run_date}: {user_adjustment}\")\n",
        "\n",
        "            # Store the updated values in a dictionary\n",
        "            updated_data[model_forecast_last_run_date] = {\n",
        "                'forecast_amount': forecast_amount,\n",
        "                'actual_user_input_amount': actual_user_input_amount,\n",
        "                'user_adjustment': user_adjustment\n",
        "            }\n",
        "\n",
        "        # Update the DataFrame when the form is submitted\n",
        "        if st.form_submit_button(\"Submit\"):\n",
        "            updated_rows = []\n",
        "            for model_forecast_last_run_date, values in updated_data.items():\n",
        "                data.loc[data['model_forecast_last_run_date'] == model_forecast_last_run_date, 'forecast_amount'] = values['forecast_amount']\n",
        "                data.loc[data['model_forecast_last_run_date'] == model_forecast_last_run_date, 'actual_user_input_amount'] = values['actual_user_input_amount']\n",
        "                data.loc[data['model_forecast_last_run_date'] == model_forecast_last_run_date, 'user_adjustment'] = values['user_adjustment']\n",
        "                updated_rows.append(data.loc[data['model_forecast_last_run_date'] == model_forecast_last_run_date])\n",
        "\n",
        "            st.session_state.data = data\n",
        "            st.session_state.updated_rows = pd.concat(updated_rows)\n",
        "            st.write(\"Updated Data\", st.session_state.updated_rows)\n",
        "            st.success(\"Data updated successfully!\")\n",
        "            st.session_state.show_refresh = True\n",
        "\n",
        "# Display the refresh button if data was updated\n",
        "if st.session_state.get('show_refresh', False):\n",
        "    if st.button(\"Refresh Data\"):\n",
        "        st.write(\"Current Data\", st.session_state.data)\n",
        "        st.session_state.show_refresh = False\n",
        "\"\"\"\n",
        "\n",
        "with open(\"app.py\", \"w\") as file:\n",
        "    file.write(app_code)"
      ],
      "metadata": {
        "id": "zymA6NCZXGum"
      },
      "execution_count": 19,
      "outputs": []
    },
    {
      "cell_type": "code",
      "source": [
        "# Step 4: Use ngrok to expose the Streamlit app\n",
        "from pyngrok import ngrok\n",
        "\n",
        "# Start ngrok tunnel\n",
        "public_url = ngrok.connect(addr='8501')\n",
        "print(f\"Streamlit app is live at: {public_url}\")\n",
        "\n",
        "# Step 5: Run the Streamlit app\n",
        "!streamlit run app.py &>/dev/null&"
      ],
      "metadata": {
        "colab": {
          "base_uri": "https://localhost:8080/"
        },
        "id": "-zrcpKt8RIJF",
        "outputId": "f454ff89-86f3-4db9-bc68-5c54eb12bb8b"
      },
      "execution_count": 4,
      "outputs": [
        {
          "output_type": "stream",
          "name": "stdout",
          "text": [
            "Streamlit app is live at: NgrokTunnel: \"https://da54-34-122-196-255.ngrok-free.app\" -> \"http://localhost:8501\"\n"
          ]
        }
      ]
    }
  ]
}